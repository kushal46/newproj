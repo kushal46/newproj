{
 "cells": [
  {
   "cell_type": "code",
   "execution_count": 1,
   "id": "25ded9d1",
   "metadata": {},
   "outputs": [],
   "source": [
    "def say_hello():\n",
    "    print('hello')"
   ]
  },
  {
   "cell_type": "code",
   "execution_count": 2,
   "id": "d68b4d7b",
   "metadata": {},
   "outputs": [
    {
     "name": "stdout",
     "output_type": "stream",
     "text": [
      "hello\n"
     ]
    }
   ],
   "source": [
    "say_hello()"
   ]
  },
  {
   "cell_type": "code",
   "execution_count": 3,
   "id": "32be6a03",
   "metadata": {},
   "outputs": [],
   "source": [
    "def say_hello(name):\n",
    "    print(f\"hello {name}\")"
   ]
  },
  {
   "cell_type": "code",
   "execution_count": 5,
   "id": "cd2b8e15",
   "metadata": {},
   "outputs": [
    {
     "name": "stdout",
     "output_type": "stream",
     "text": [
      "hello mad\n"
     ]
    }
   ],
   "source": [
    "say_hello('mad')"
   ]
  },
  {
   "cell_type": "code",
   "execution_count": 6,
   "id": "b042328d",
   "metadata": {},
   "outputs": [],
   "source": [
    "def add_num(num1,num2):\n",
    "    return num1+num2"
   ]
  },
  {
   "cell_type": "code",
   "execution_count": 7,
   "id": "0c945b81",
   "metadata": {},
   "outputs": [
    {
     "data": {
      "text/plain": [
       "8"
      ]
     },
     "execution_count": 7,
     "metadata": {},
     "output_type": "execute_result"
    }
   ],
   "source": [
    "add_num(3,5)"
   ]
  },
  {
   "cell_type": "code",
   "execution_count": 8,
   "id": "c7c043f4",
   "metadata": {},
   "outputs": [],
   "source": [
    "#even check\n",
    "def even_check(number):\n",
    "    return number%2==0"
   ]
  },
  {
   "cell_type": "code",
   "execution_count": 9,
   "id": "7191f972",
   "metadata": {},
   "outputs": [
    {
     "data": {
      "text/plain": [
       "True"
      ]
     },
     "execution_count": 9,
     "metadata": {},
     "output_type": "execute_result"
    }
   ],
   "source": [
    "even_check(20)"
   ]
  },
  {
   "cell_type": "code",
   "execution_count": 10,
   "id": "378eb79c",
   "metadata": {},
   "outputs": [
    {
     "data": {
      "text/plain": [
       "False"
      ]
     },
     "execution_count": 10,
     "metadata": {},
     "output_type": "execute_result"
    }
   ],
   "source": [
    "even_check(25)"
   ]
  },
  {
   "cell_type": "code",
   "execution_count": 11,
   "id": "50ce1f74",
   "metadata": {},
   "outputs": [],
   "source": [
    "#return true if any num is even inside a list"
   ]
  },
  {
   "cell_type": "code",
   "execution_count": 33,
   "id": "cd1c9162",
   "metadata": {},
   "outputs": [],
   "source": [
    "def check_even_list(num_list):\n",
    "    \n",
    "    even_num = []\n",
    "    \n",
    "    for x in num_list:\n",
    "        if x % 2 == 0:\n",
    "            even_num.append(x)\n",
    "        else:\n",
    "            pass\n",
    "    return even_num\n",
    "    print(even_num)"
   ]
  },
  {
   "cell_type": "code",
   "execution_count": 34,
   "id": "9873a374",
   "metadata": {},
   "outputs": [
    {
     "data": {
      "text/plain": [
       "[2]"
      ]
     },
     "execution_count": 34,
     "metadata": {},
     "output_type": "execute_result"
    }
   ],
   "source": [
    "check_even_list([1,3,2,7])"
   ]
  },
  {
   "cell_type": "code",
   "execution_count": 35,
   "id": "157429fd",
   "metadata": {},
   "outputs": [
    {
     "data": {
      "text/plain": [
       "[2, 4]"
      ]
     },
     "execution_count": 35,
     "metadata": {},
     "output_type": "execute_result"
    }
   ],
   "source": [
    "check_even_list([2,3,4])"
   ]
  },
  {
   "cell_type": "code",
   "execution_count": 36,
   "id": "3e2ef76a",
   "metadata": {},
   "outputs": [
    {
     "data": {
      "text/plain": [
       "[6]"
      ]
     },
     "execution_count": 36,
     "metadata": {},
     "output_type": "execute_result"
    }
   ],
   "source": [
    "check_even_list([1,3,6])"
   ]
  },
  {
   "cell_type": "code",
   "execution_count": 37,
   "id": "56ccc051",
   "metadata": {},
   "outputs": [],
   "source": [
    "#TUPLE UNPACKING"
   ]
  },
  {
   "cell_type": "code",
   "execution_count": 38,
   "id": "f2d2abdf",
   "metadata": {},
   "outputs": [],
   "source": [
    "stock_prices=[('appl',200),('goog',400),('msft',100)]"
   ]
  },
  {
   "cell_type": "code",
   "execution_count": 43,
   "id": "2eb18cef",
   "metadata": {},
   "outputs": [],
   "source": [
    "work_hours=[('abby',100),('billy',4000),('Cassie',800)]"
   ]
  },
  {
   "cell_type": "code",
   "execution_count": 44,
   "id": "9c71c928",
   "metadata": {},
   "outputs": [],
   "source": [
    "def emp_check(work_hours):\n",
    "    cur_max=0\n",
    "    emp_of_thr_mnt=''\n",
    "    \n",
    "    for employee,hours in work_hours:\n",
    "        if hours > cur_max:\n",
    "            cur_max=hours\n",
    "            emp_of_thr_mnt=employee\n",
    "        else:\n",
    "            pass\n",
    "    return(emp_of_thr_mnt,cur_max)\n",
    "    \n",
    "    "
   ]
  },
  {
   "cell_type": "code",
   "execution_count": 45,
   "id": "4f177023",
   "metadata": {},
   "outputs": [
    {
     "data": {
      "text/plain": [
       "('billy', 4000)"
      ]
     },
     "execution_count": 45,
     "metadata": {},
     "output_type": "execute_result"
    }
   ],
   "source": [
    "emp_check(work_hours)"
   ]
  },
  {
   "cell_type": "code",
   "execution_count": 46,
   "id": "c99d8ca2",
   "metadata": {},
   "outputs": [],
   "source": [
    "name,hours=emp_check(work_hours)"
   ]
  },
  {
   "cell_type": "code",
   "execution_count": 47,
   "id": "13ae2bad",
   "metadata": {},
   "outputs": [
    {
     "data": {
      "text/plain": [
       "'billy'"
      ]
     },
     "execution_count": 47,
     "metadata": {},
     "output_type": "execute_result"
    }
   ],
   "source": [
    "name"
   ]
  },
  {
   "cell_type": "code",
   "execution_count": 48,
   "id": "d7d5fa23",
   "metadata": {},
   "outputs": [
    {
     "data": {
      "text/plain": [
       "4000"
      ]
     },
     "execution_count": 48,
     "metadata": {},
     "output_type": "execute_result"
    }
   ],
   "source": [
    "hours"
   ]
  },
  {
   "cell_type": "code",
   "execution_count": 49,
   "id": "4e31dfec",
   "metadata": {},
   "outputs": [],
   "source": []
  },
  {
   "cell_type": "code",
   "execution_count": 50,
   "id": "55112d6b",
   "metadata": {},
   "outputs": [],
   "source": [
    "example=[1,2,3,4,5,6,7]"
   ]
  },
  {
   "cell_type": "code",
   "execution_count": 51,
   "id": "bbefbc66",
   "metadata": {},
   "outputs": [],
   "source": [
    "from random import shuffle\n",
    "\n",
    "def shuffle_list(mylist):\n",
    "    shuffle(mylist)\n",
    "    return mylist"
   ]
  },
  {
   "cell_type": "code",
   "execution_count": 58,
   "id": "51988206",
   "metadata": {},
   "outputs": [],
   "source": [
    "result = shuffle_list(example)"
   ]
  },
  {
   "cell_type": "code",
   "execution_count": 59,
   "id": "fb2f261d",
   "metadata": {},
   "outputs": [
    {
     "data": {
      "text/plain": [
       "[1, 7, 2, 3, 6, 4, 5]"
      ]
     },
     "execution_count": 59,
     "metadata": {},
     "output_type": "execute_result"
    }
   ],
   "source": [
    "result"
   ]
  },
  {
   "cell_type": "code",
   "execution_count": 60,
   "id": "18a71818",
   "metadata": {},
   "outputs": [],
   "source": [
    "#THREE CUP MONTEE"
   ]
  },
  {
   "cell_type": "code",
   "execution_count": 61,
   "id": "0b11c5a5",
   "metadata": {},
   "outputs": [],
   "source": [
    "mylist=['','O','']"
   ]
  },
  {
   "cell_type": "code",
   "execution_count": 62,
   "id": "f805bdfd",
   "metadata": {},
   "outputs": [
    {
     "data": {
      "text/plain": [
       "['', '', 'O']"
      ]
     },
     "execution_count": 62,
     "metadata": {},
     "output_type": "execute_result"
    }
   ],
   "source": [
    "shuffle_list(mylist)"
   ]
  },
  {
   "cell_type": "code",
   "execution_count": 63,
   "id": "dca016e5",
   "metadata": {},
   "outputs": [],
   "source": [
    "def player_guess():\n",
    "    \n",
    "    guess=''\n",
    "    while guess not in ['0','1','2']:\n",
    "        guess= input(\"pick a spot 0,1 or 2: \")\n",
    "        \n",
    "    return int(guess)"
   ]
  },
  {
   "cell_type": "code",
   "execution_count": 64,
   "id": "9e446386",
   "metadata": {},
   "outputs": [
    {
     "name": "stdout",
     "output_type": "stream",
     "text": [
      "pick a spot 0,1 or 2: 54\n",
      "pick a spot 0,1 or 2: 4\n",
      "pick a spot 0,1 or 2: 6\n",
      "pick a spot 0,1 or 2: 1\n"
     ]
    },
    {
     "data": {
      "text/plain": [
       "1"
      ]
     },
     "execution_count": 64,
     "metadata": {},
     "output_type": "execute_result"
    }
   ],
   "source": [
    "player_guess()"
   ]
  },
  {
   "cell_type": "code",
   "execution_count": 74,
   "id": "5dd995e6",
   "metadata": {},
   "outputs": [],
   "source": [
    "def check_guess(mylist,guess):\n",
    "    if mylist[guess]=='O':\n",
    "        print(\"Correct\")\n",
    "    else:\n",
    "        print(\"wrong\")\n",
    "        print(mylist)\n",
    "        "
   ]
  },
  {
   "cell_type": "code",
   "execution_count": 76,
   "id": "e2bdc113",
   "metadata": {},
   "outputs": [
    {
     "name": "stdout",
     "output_type": "stream",
     "text": [
      "pick a spot 0,1 or 2: 6\n",
      "pick a spot 0,1 or 2: 1\n",
      "wrong\n",
      "['', '', 'O']\n"
     ]
    }
   ],
   "source": [
    "#initial list\n",
    "mylist=['','O','']\n",
    "#shuffle list\n",
    "mixed_list= shuffle_list(mylist)\n",
    "#user guess\n",
    "guess = player_guess()\n",
    "#check guess\n",
    "check_guess(mixed_list,guess)\n"
   ]
  },
  {
   "cell_type": "code",
   "execution_count": null,
   "id": "8123ed3c",
   "metadata": {},
   "outputs": [],
   "source": []
  }
 ],
 "metadata": {
  "kernelspec": {
   "display_name": "Python 3 (ipykernel)",
   "language": "python",
   "name": "python3"
  },
  "language_info": {
   "codemirror_mode": {
    "name": "ipython",
    "version": 3
   },
   "file_extension": ".py",
   "mimetype": "text/x-python",
   "name": "python",
   "nbconvert_exporter": "python",
   "pygments_lexer": "ipython3",
   "version": "3.10.9"
  }
 },
 "nbformat": 4,
 "nbformat_minor": 5
}
