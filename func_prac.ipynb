{
 "cells": [
  {
   "cell_type": "code",
   "execution_count": 1,
   "id": "25ded9d1",
   "metadata": {},
   "outputs": [],
   "source": [
    "def say_hello():\n",
    "    print('hello')"
   ]
  },
  {
   "cell_type": "code",
   "execution_count": 2,
   "id": "d68b4d7b",
   "metadata": {},
   "outputs": [
    {
     "name": "stdout",
     "output_type": "stream",
     "text": [
      "hello\n"
     ]
    }
   ],
   "source": [
    "say_hello()"
   ]
  },
  {
   "cell_type": "code",
   "execution_count": 3,
   "id": "32be6a03",
   "metadata": {},
   "outputs": [],
   "source": [
    "def say_hello(name):\n",
    "    print(f\"hello {name}\")"
   ]
  },
  {
   "cell_type": "code",
   "execution_count": 5,
   "id": "cd2b8e15",
   "metadata": {},
   "outputs": [
    {
     "name": "stdout",
     "output_type": "stream",
     "text": [
      "hello mad\n"
     ]
    }
   ],
   "source": [
    "say_hello('mad')"
   ]
  },
  {
   "cell_type": "code",
   "execution_count": 6,
   "id": "b042328d",
   "metadata": {},
   "outputs": [],
   "source": [
    "def add_num(num1,num2):\n",
    "    return num1+num2"
   ]
  },
  {
   "cell_type": "code",
   "execution_count": 7,
   "id": "0c945b81",
   "metadata": {},
   "outputs": [
    {
     "data": {
      "text/plain": [
       "8"
      ]
     },
     "execution_count": 7,
     "metadata": {},
     "output_type": "execute_result"
    }
   ],
   "source": [
    "add_num(3,5)"
   ]
  },
  {
   "cell_type": "code",
   "execution_count": 8,
   "id": "c7c043f4",
   "metadata": {},
   "outputs": [],
   "source": [
    "#even check\n",
    "def even_check(number):\n",
    "    return number%2==0"
   ]
  },
  {
   "cell_type": "code",
   "execution_count": 9,
   "id": "7191f972",
   "metadata": {},
   "outputs": [
    {
     "data": {
      "text/plain": [
       "True"
      ]
     },
     "execution_count": 9,
     "metadata": {},
     "output_type": "execute_result"
    }
   ],
   "source": [
    "even_check(20)"
   ]
  },
  {
   "cell_type": "code",
   "execution_count": 10,
   "id": "378eb79c",
   "metadata": {},
   "outputs": [
    {
     "data": {
      "text/plain": [
       "False"
      ]
     },
     "execution_count": 10,
     "metadata": {},
     "output_type": "execute_result"
    }
   ],
   "source": [
    "even_check(25)"
   ]
  },
  {
   "cell_type": "code",
   "execution_count": 11,
   "id": "50ce1f74",
   "metadata": {},
   "outputs": [],
   "source": [
    "#return true if any num is even inside a list"
   ]
  },
  {
   "cell_type": "code",
   "execution_count": 33,
   "id": "cd1c9162",
   "metadata": {},
   "outputs": [],
   "source": [
    "def check_even_list(num_list):\n",
    "    \n",
    "    even_num = []\n",
    "    \n",
    "    for x in num_list:\n",
    "        if x % 2 == 0:\n",
    "            even_num.append(x)\n",
    "        else:\n",
    "            pass\n",
    "    return even_num\n",
    "    print(even_num)"
   ]
  },
  {
   "cell_type": "code",
   "execution_count": 34,
   "id": "9873a374",
   "metadata": {},
   "outputs": [
    {
     "data": {
      "text/plain": [
       "[2]"
      ]
     },
     "execution_count": 34,
     "metadata": {},
     "output_type": "execute_result"
    }
   ],
   "source": [
    "check_even_list([1,3,2,7])"
   ]
  },
  {
   "cell_type": "code",
   "execution_count": 35,
   "id": "157429fd",
   "metadata": {},
   "outputs": [
    {
     "data": {
      "text/plain": [
       "[2, 4]"
      ]
     },
     "execution_count": 35,
     "metadata": {},
     "output_type": "execute_result"
    }
   ],
   "source": [
    "check_even_list([2,3,4])"
   ]
  },
  {
   "cell_type": "code",
   "execution_count": 36,
   "id": "3e2ef76a",
   "metadata": {},
   "outputs": [
    {
     "data": {
      "text/plain": [
       "[6]"
      ]
     },
     "execution_count": 36,
     "metadata": {},
     "output_type": "execute_result"
    }
   ],
   "source": [
    "check_even_list([1,3,6])"
   ]
  },
  {
   "cell_type": "code",
   "execution_count": 37,
   "id": "56ccc051",
   "metadata": {},
   "outputs": [],
   "source": [
    "#TUPLE UNPACKING"
   ]
  },
  {
   "cell_type": "code",
   "execution_count": 38,
   "id": "f2d2abdf",
   "metadata": {},
   "outputs": [],
   "source": [
    "stock_prices=[('appl',200),('goog',400),('msft',100)]"
   ]
  },
  {
   "cell_type": "code",
   "execution_count": 43,
   "id": "2eb18cef",
   "metadata": {},
   "outputs": [],
   "source": [
    "work_hours=[('abby',100),('billy',4000),('Cassie',800)]"
   ]
  },
  {
   "cell_type": "code",
   "execution_count": 44,
   "id": "9c71c928",
   "metadata": {},
   "outputs": [],
   "source": [
    "def emp_check(work_hours):\n",
    "    cur_max=0\n",
    "    emp_of_thr_mnt=''\n",
    "    \n",
    "    for employee,hours in work_hours:\n",
    "        if hours > cur_max:\n",
    "            cur_max=hours\n",
    "            emp_of_thr_mnt=employee\n",
    "        else:\n",
    "            pass\n",
    "    return(emp_of_thr_mnt,cur_max)\n",
    "    \n",
    "    "
   ]
  },
  {
   "cell_type": "code",
   "execution_count": 45,
   "id": "4f177023",
   "metadata": {},
   "outputs": [
    {
     "data": {
      "text/plain": [
       "('billy', 4000)"
      ]
     },
     "execution_count": 45,
     "metadata": {},
     "output_type": "execute_result"
    }
   ],
   "source": [
    "emp_check(work_hours)"
   ]
  },
  {
   "cell_type": "code",
   "execution_count": 46,
   "id": "c99d8ca2",
   "metadata": {},
   "outputs": [],
   "source": [
    "name,hours=emp_check(work_hours)"
   ]
  },
  {
   "cell_type": "code",
   "execution_count": 47,
   "id": "13ae2bad",
   "metadata": {},
   "outputs": [
    {
     "data": {
      "text/plain": [
       "'billy'"
      ]
     },
     "execution_count": 47,
     "metadata": {},
     "output_type": "execute_result"
    }
   ],
   "source": [
    "name"
   ]
  },
  {
   "cell_type": "code",
   "execution_count": 48,
   "id": "d7d5fa23",
   "metadata": {},
   "outputs": [
    {
     "data": {
      "text/plain": [
       "4000"
      ]
     },
     "execution_count": 48,
     "metadata": {},
     "output_type": "execute_result"
    }
   ],
   "source": [
    "hours"
   ]
  },
  {
   "cell_type": "code",
   "execution_count": 49,
   "id": "4e31dfec",
   "metadata": {},
   "outputs": [],
   "source": []
  },
  {
   "cell_type": "code",
   "execution_count": 50,
   "id": "55112d6b",
   "metadata": {},
   "outputs": [],
   "source": [
    "example=[1,2,3,4,5,6,7]"
   ]
  },
  {
   "cell_type": "code",
   "execution_count": 51,
   "id": "bbefbc66",
   "metadata": {},
   "outputs": [],
   "source": [
    "from random import shuffle\n",
    "\n",
    "def shuffle_list(mylist):\n",
    "    shuffle(mylist)\n",
    "    return mylist"
   ]
  },
  {
   "cell_type": "code",
   "execution_count": 58,
   "id": "51988206",
   "metadata": {},
   "outputs": [],
   "source": [
    "result = shuffle_list(example)"
   ]
  },
  {
   "cell_type": "code",
   "execution_count": 59,
   "id": "fb2f261d",
   "metadata": {},
   "outputs": [
    {
     "data": {
      "text/plain": [
       "[1, 7, 2, 3, 6, 4, 5]"
      ]
     },
     "execution_count": 59,
     "metadata": {},
     "output_type": "execute_result"
    }
   ],
   "source": [
    "result"
   ]
  },
  {
   "cell_type": "code",
   "execution_count": 60,
   "id": "18a71818",
   "metadata": {},
   "outputs": [],
   "source": [
    "#THREE CUP MONTEE"
   ]
  },
  {
   "cell_type": "code",
   "execution_count": 61,
   "id": "0b11c5a5",
   "metadata": {},
   "outputs": [],
   "source": [
    "mylist=['','O','']"
   ]
  },
  {
   "cell_type": "code",
   "execution_count": 62,
   "id": "f805bdfd",
   "metadata": {},
   "outputs": [
    {
     "data": {
      "text/plain": [
       "['', '', 'O']"
      ]
     },
     "execution_count": 62,
     "metadata": {},
     "output_type": "execute_result"
    }
   ],
   "source": [
    "shuffle_list(mylist)"
   ]
  },
  {
   "cell_type": "code",
   "execution_count": 63,
   "id": "dca016e5",
   "metadata": {},
   "outputs": [],
   "source": [
    "def player_guess():\n",
    "    \n",
    "    guess=''\n",
    "    while guess not in ['0','1','2']:\n",
    "        guess= input(\"pick a spot 0,1 or 2: \")\n",
    "        \n",
    "    return int(guess)"
   ]
  },
  {
   "cell_type": "code",
   "execution_count": 64,
   "id": "9e446386",
   "metadata": {},
   "outputs": [
    {
     "name": "stdout",
     "output_type": "stream",
     "text": [
      "pick a spot 0,1 or 2: 54\n",
      "pick a spot 0,1 or 2: 4\n",
      "pick a spot 0,1 or 2: 6\n",
      "pick a spot 0,1 or 2: 1\n"
     ]
    },
    {
     "data": {
      "text/plain": [
       "1"
      ]
     },
     "execution_count": 64,
     "metadata": {},
     "output_type": "execute_result"
    }
   ],
   "source": [
    "player_guess()"
   ]
  },
  {
   "cell_type": "code",
   "execution_count": 74,
   "id": "5dd995e6",
   "metadata": {},
   "outputs": [],
   "source": [
    "def check_guess(mylist,guess):\n",
    "    if mylist[guess]=='O':\n",
    "        print(\"Correct\")\n",
    "    else:\n",
    "        print(\"wrong\")\n",
    "        print(mylist)\n",
    "        "
   ]
  },
  {
   "cell_type": "code",
   "execution_count": 76,
   "id": "e2bdc113",
   "metadata": {},
   "outputs": [
    {
     "name": "stdout",
     "output_type": "stream",
     "text": [
      "pick a spot 0,1 or 2: 6\n",
      "pick a spot 0,1 or 2: 1\n",
      "wrong\n",
      "['', '', 'O']\n"
     ]
    }
   ],
   "source": [
    "#initial list\n",
    "mylist=['','O','']\n",
    "#shuffle list\n",
    "mixed_list= shuffle_list(mylist)\n",
    "#user guess\n",
    "guess = player_guess()\n",
    "#check guess\n",
    "check_guess(mixed_list,guess)\n"
   ]
  },
  {
   "cell_type": "code",
   "execution_count": 1,
   "id": "8123ed3c",
   "metadata": {},
   "outputs": [],
   "source": [
    "# *args and **kwargs\n",
    "#"
   ]
  },
  {
   "cell_type": "code",
   "execution_count": 4,
   "id": "a5075ee9",
   "metadata": {},
   "outputs": [],
   "source": [
    "# *args are like a general term for many no of arguments \n",
    "def myfunc(*args):\n",
    "    return sum(args)*0.05"
   ]
  },
  {
   "cell_type": "code",
   "execution_count": 5,
   "id": "45abc0d3",
   "metadata": {},
   "outputs": [
    {
     "data": {
      "text/plain": [
       "30.0"
      ]
     },
     "execution_count": 5,
     "metadata": {},
     "output_type": "execute_result"
    }
   ],
   "source": [
    "myfunc(100,500)"
   ]
  },
  {
   "cell_type": "code",
   "execution_count": 6,
   "id": "0279c212",
   "metadata": {},
   "outputs": [
    {
     "data": {
      "text/plain": [
       "18.0"
      ]
     },
     "execution_count": 6,
     "metadata": {},
     "output_type": "execute_result"
    }
   ],
   "source": [
    "myfunc(5,6,5,344)"
   ]
  },
  {
   "cell_type": "code",
   "execution_count": 8,
   "id": "ed33c9ba",
   "metadata": {},
   "outputs": [
    {
     "data": {
      "text/plain": [
       "12251.0"
      ]
     },
     "execution_count": 8,
     "metadata": {},
     "output_type": "execute_result"
    }
   ],
   "source": [
    "myfunc(23,4,24,2424,242545)"
   ]
  },
  {
   "cell_type": "code",
   "execution_count": 9,
   "id": "1beb305d",
   "metadata": {},
   "outputs": [],
   "source": [
    "def myfunc(*args):\n",
    "    for i in args:\n",
    "        print(i)"
   ]
  },
  {
   "cell_type": "code",
   "execution_count": 10,
   "id": "a5184c98",
   "metadata": {},
   "outputs": [
    {
     "name": "stdout",
     "output_type": "stream",
     "text": [
      "3\n",
      "43\n",
      "233\n"
     ]
    }
   ],
   "source": [
    "myfunc(3,43,233)"
   ]
  },
  {
   "cell_type": "code",
   "execution_count": 11,
   "id": "4a2eb97b",
   "metadata": {},
   "outputs": [
    {
     "name": "stdout",
     "output_type": "stream",
     "text": [
      "a\n",
      "25\n",
      "sdfs\n"
     ]
    }
   ],
   "source": [
    "myfunc('a',25,'sdfs')"
   ]
  },
  {
   "cell_type": "code",
   "execution_count": 15,
   "id": "a12b692a",
   "metadata": {},
   "outputs": [],
   "source": [
    "# **kwargs retuns a dictionary\n",
    "def myfunc(**kwargs):\n",
    "    print(kwargs)\n",
    "    if 'fruit' in kwargs:\n",
    "        print('the fruit of choice is {}'.format(kwargs['fruit']))\n",
    "    else:\n",
    "        print('no fruit here')"
   ]
  },
  {
   "cell_type": "code",
   "execution_count": 16,
   "id": "1f5eb33d",
   "metadata": {},
   "outputs": [
    {
     "name": "stdout",
     "output_type": "stream",
     "text": [
      "{'fruit': 'apple'}\n",
      "the fruit of choice is apple\n"
     ]
    }
   ],
   "source": [
    "myfunc(fruit='apple')"
   ]
  },
  {
   "cell_type": "code",
   "execution_count": 17,
   "id": "b90ac44d",
   "metadata": {},
   "outputs": [
    {
     "name": "stdout",
     "output_type": "stream",
     "text": [
      "{'fruit': 'apple', 'veggie': 'cucumber'}\n",
      "the fruit of choice is apple\n"
     ]
    }
   ],
   "source": [
    "myfunc(fruit = 'apple',veggie ='cucumber')"
   ]
  },
  {
   "cell_type": "code",
   "execution_count": 19,
   "id": "64fbaea7",
   "metadata": {},
   "outputs": [],
   "source": [
    "def myfunc(*args,**kwargs):\n",
    "    print(args)\n",
    "    print(kwargs)\n",
    "    print(\"i woukd like {} {}\".format(args[0],kwargs['food']))"
   ]
  },
  {
   "cell_type": "code",
   "execution_count": 20,
   "id": "9ad54c39",
   "metadata": {},
   "outputs": [
    {
     "name": "stdout",
     "output_type": "stream",
     "text": [
      "(10, 20, 30)\n",
      "{'fruit': 'apple', 'food': 'egg', 'animal': 'lion'}\n",
      "i woukd like 10 egg\n"
     ]
    }
   ],
   "source": [
    "myfunc(10,20,30,fruit='apple',food='egg',animal='lion')"
   ]
  },
  {
   "cell_type": "code",
   "execution_count": null,
   "id": "996fb96d",
   "metadata": {},
   "outputs": [],
   "source": []
  },
  {
   "cell_type": "code",
   "execution_count": 21,
   "id": "dcb0f52a",
   "metadata": {},
   "outputs": [],
   "source": [
    "def myfunc(strng):\n",
    "    i=0\n",
    "    while i < len(strng):\n",
    "        if strng[i %2 ==0]:\n",
    "           strng[i].upper\n",
    "        else:\n",
    "           strng[i].lower\n",
    "        i += 1\n",
    "    return strng\n",
    "        "
   ]
  },
  {
   "cell_type": "code",
   "execution_count": 22,
   "id": "cc4a5462",
   "metadata": {},
   "outputs": [
    {
     "data": {
      "text/plain": [
       "'haSkxnas'"
      ]
     },
     "execution_count": 22,
     "metadata": {},
     "output_type": "execute_result"
    }
   ],
   "source": [
    "myfunc('haSkxnas')"
   ]
  },
  {
   "cell_type": "code",
   "execution_count": 23,
   "id": "f92cbd1a",
   "metadata": {},
   "outputs": [],
   "source": [
    "def myfunc(a):\n",
    "    result=\"\"\n",
    "    for x in range(0,len(a)):\n",
    "        if x%2==0:\n",
    "            result=result+a[x].upper()\n",
    "        else:\n",
    "            result=result+a[x].lower()\n",
    "    return result \n",
    "    "
   ]
  },
  {
   "cell_type": "code",
   "execution_count": 24,
   "id": "b250622b",
   "metadata": {},
   "outputs": [
    {
     "data": {
      "text/plain": [
       "'UbIcN'"
      ]
     },
     "execution_count": 24,
     "metadata": {},
     "output_type": "execute_result"
    }
   ],
   "source": [
    "myfunc('ubicn')"
   ]
  },
  {
   "cell_type": "code",
   "execution_count": 25,
   "id": "eb6dbb92",
   "metadata": {},
   "outputs": [
    {
     "data": {
      "text/plain": [
       "'SxIiDc'"
      ]
     },
     "execution_count": 25,
     "metadata": {},
     "output_type": "execute_result"
    }
   ],
   "source": [
    "myfunc('SXiidc')"
   ]
  },
  {
   "cell_type": "code",
   "execution_count": 26,
   "id": "3c46bc71",
   "metadata": {},
   "outputs": [],
   "source": [
    "#ASSESMENTS"
   ]
  },
  {
   "cell_type": "code",
   "execution_count": 33,
   "id": "505ca71d",
   "metadata": {},
   "outputs": [],
   "source": [
    "#volume of a sphere\n",
    "import math\n",
    "def vol(rad):\n",
    "    pi=math.pi\n",
    "    return (4/3)*pi* (rad**3)"
   ]
  },
  {
   "cell_type": "code",
   "execution_count": 34,
   "id": "9c5a3a8e",
   "metadata": {},
   "outputs": [
    {
     "data": {
      "text/plain": [
       "33.49333333333333"
      ]
     },
     "execution_count": 34,
     "metadata": {},
     "output_type": "execute_result"
    }
   ],
   "source": [
    "vol(2)"
   ]
  },
  {
   "cell_type": "code",
   "execution_count": 35,
   "id": "d1e4966b",
   "metadata": {},
   "outputs": [],
   "source": [
    "#if no is in a given range\n",
    "def ran_check(num,low,high):\n",
    "    if num in range(low,high+1):\n",
    "        print('yes')\n",
    "    else:\n",
    "        print('no')"
   ]
  },
  {
   "cell_type": "code",
   "execution_count": 36,
   "id": "c91e50dd",
   "metadata": {},
   "outputs": [
    {
     "name": "stdout",
     "output_type": "stream",
     "text": [
      "yes\n"
     ]
    }
   ],
   "source": [
    "ran_check(5,2,7)"
   ]
  },
  {
   "cell_type": "code",
   "execution_count": 37,
   "id": "23342675",
   "metadata": {},
   "outputs": [
    {
     "name": "stdout",
     "output_type": "stream",
     "text": [
      "no\n"
     ]
    }
   ],
   "source": [
    "ran_check(5,6,8)"
   ]
  },
  {
   "cell_type": "code",
   "execution_count": 38,
   "id": "bf762300",
   "metadata": {},
   "outputs": [],
   "source": [
    "def ran_check(num,low,high):\n",
    "    if num in range(low,high+1):\n",
    "        return True\n",
    "    else:\n",
    "        return False"
   ]
  },
  {
   "cell_type": "code",
   "execution_count": 39,
   "id": "b36c9434",
   "metadata": {},
   "outputs": [
    {
     "data": {
      "text/plain": [
       "False"
      ]
     },
     "execution_count": 39,
     "metadata": {},
     "output_type": "execute_result"
    }
   ],
   "source": [
    "ran_check(5,6,8)"
   ]
  },
  {
   "cell_type": "code",
   "execution_count": 40,
   "id": "1992cadd",
   "metadata": {},
   "outputs": [],
   "source": [
    "#calculates the number of upper case letters and lower case letters.\n",
    "def up_lows(strng):\n",
    "    up=0\n",
    "    low=0\n",
    "    for i in range(0,len(strng)):\n",
    "        if strng[i].isupper():\n",
    "            up +=1\n",
    "        elif strng[i].islower():\n",
    "            low +=1\n",
    "        else:\n",
    "            pass\n",
    "    print('up ={},low={}'.format(up,low))\n",
    "    "
   ]
  },
  {
   "cell_type": "code",
   "execution_count": 41,
   "id": "e0c94d69",
   "metadata": {},
   "outputs": [
    {
     "name": "stdout",
     "output_type": "stream",
     "text": [
      "up =4,low=33\n"
     ]
    }
   ],
   "source": [
    "up_lows('Hello Mr. Rogers, how are you this fine Tuesday?')"
   ]
  },
  {
   "cell_type": "code",
   "execution_count": 44,
   "id": "d168eec3",
   "metadata": {},
   "outputs": [],
   "source": [
    "#Write a Python function that takes a list and returns a new list with unique elements of the first list.\n",
    "def func(lis):\n",
    "    uni_lis=set(lis)\n",
    "    new_lis=list(uni_lis)\n",
    "    \n",
    "    return new_lis"
   ]
  },
  {
   "cell_type": "code",
   "execution_count": 45,
   "id": "1ec0b934",
   "metadata": {},
   "outputs": [
    {
     "data": {
      "text/plain": [
       "[1, 2, 3, 4, 5]"
      ]
     },
     "execution_count": 45,
     "metadata": {},
     "output_type": "execute_result"
    }
   ],
   "source": [
    "func([1,1,1,1,2,2,3,3,3,3,4,5])"
   ]
  },
  {
   "cell_type": "code",
   "execution_count": 51,
   "id": "bd034dfc",
   "metadata": {},
   "outputs": [],
   "source": [
    "#Write a Python function to multiply all the numbers in a list.\n",
    "def multiply(numbers):\n",
    "    prod=1\n",
    "    for i in numbers:\n",
    "        prod=i*prod\n",
    "    return prod\n",
    "        \n",
    "        \n",
    "    "
   ]
  },
  {
   "cell_type": "markdown",
   "id": "13a99f02",
   "metadata": {},
   "source": [
    "  "
   ]
  },
  {
   "cell_type": "code",
   "execution_count": 50,
   "id": "52eaf957",
   "metadata": {},
   "outputs": [
    {
     "data": {
      "text/plain": [
       "-24"
      ]
     },
     "execution_count": 50,
     "metadata": {},
     "output_type": "execute_result"
    }
   ],
   "source": [
    "multiply([1, 2, 3, -4]\n",
    ")"
   ]
  },
  {
   "cell_type": "code",
   "execution_count": 12,
   "id": "6ca96363",
   "metadata": {},
   "outputs": [],
   "source": [
    "def palindrome(stf):\n",
    "    stfe= stf.replace(\" \",\"\")\n",
    "    if stfe[0::] == stfe[::-1]:\n",
    "        print('True')\n",
    "    else:\n",
    "        print('f')"
   ]
  },
  {
   "cell_type": "code",
   "execution_count": 15,
   "id": "ab99f5f9",
   "metadata": {},
   "outputs": [
    {
     "name": "stdout",
     "output_type": "stream",
     "text": [
      "True\n"
     ]
    }
   ],
   "source": [
    "palindrome(\"mr owl ate my metal worm\")"
   ]
  },
  {
   "cell_type": "code",
   "execution_count": 36,
   "id": "ddbbc92e",
   "metadata": {},
   "outputs": [],
   "source": [
    "import string\n",
    "def ispangram(str1, alphabet=string.ascii_lowercase):\n",
    "    alphaset=set(alphabet)\n",
    "    \n",
    "    str1 = str1.replace(\" \",'')\n",
    "    str1 = str1.lower()\n",
    "    str1 = set(str1)\n",
    "    \n",
    "    return str1==alphaset"
   ]
  },
  {
   "cell_type": "code",
   "execution_count": 39,
   "id": "8f140fe8",
   "metadata": {},
   "outputs": [
    {
     "data": {
      "text/plain": [
       "True"
      ]
     },
     "execution_count": 39,
     "metadata": {},
     "output_type": "execute_result"
    }
   ],
   "source": [
    "ispangram(\"te quick brown fox jumps over the lazy dog\")\n"
   ]
  },
  {
   "cell_type": "code",
   "execution_count": 51,
   "id": "c4a0583d",
   "metadata": {},
   "outputs": [],
   "source": [
    "#Function Practice Exercises\n",
    "\n",
    "#1\n",
    "def lesser_of_two_evens(a,b):\n",
    "    if a % 2==0 and b % 2==0:\n",
    "        return min(a,b)\n",
    "    else:\n",
    "        return max(a,b)"
   ]
  },
  {
   "cell_type": "code",
   "execution_count": 52,
   "id": "2e0b17c1",
   "metadata": {},
   "outputs": [
    {
     "data": {
      "text/plain": [
       "7"
      ]
     },
     "execution_count": 52,
     "metadata": {},
     "output_type": "execute_result"
    }
   ],
   "source": [
    "# Check\n",
    "lesser_of_two_evens(2,7)"
   ]
  },
  {
   "cell_type": "code",
   "execution_count": 53,
   "id": "c63bb35c",
   "metadata": {},
   "outputs": [
    {
     "data": {
      "text/plain": [
       "11"
      ]
     },
     "execution_count": 53,
     "metadata": {},
     "output_type": "execute_result"
    }
   ],
   "source": [
    "lesser_of_two_evens(9,11)"
   ]
  },
  {
   "cell_type": "markdown",
   "id": "c2d0c387",
   "metadata": {},
   "source": [
    "#2"
   ]
  },
  {
   "cell_type": "code",
   "execution_count": 65,
   "id": "92e244ed",
   "metadata": {},
   "outputs": [],
   "source": [
    "def animal_crackers(text):\n",
    "    txt = text.split(\" \")\n",
    "    return txt[0][0] ==  txt[1][0]\n",
    "        "
   ]
  },
  {
   "cell_type": "code",
   "execution_count": 66,
   "id": "d2af1fae",
   "metadata": {},
   "outputs": [
    {
     "data": {
      "text/plain": [
       "True"
      ]
     },
     "execution_count": 66,
     "metadata": {},
     "output_type": "execute_result"
    }
   ],
   "source": [
    "animal_crackers('Levelheaded Lilama')"
   ]
  },
  {
   "cell_type": "code",
   "execution_count": 68,
   "id": "08e3ada8",
   "metadata": {},
   "outputs": [
    {
     "data": {
      "text/plain": [
       "False"
      ]
     },
     "execution_count": 68,
     "metadata": {},
     "output_type": "execute_result"
    }
   ],
   "source": [
    "animal_crackers('Crazy kangaroo')\n"
   ]
  },
  {
   "cell_type": "code",
   "execution_count": 70,
   "id": "559f9b15",
   "metadata": {},
   "outputs": [],
   "source": [
    "#3"
   ]
  },
  {
   "cell_type": "code",
   "execution_count": 71,
   "id": "e74324b9",
   "metadata": {},
   "outputs": [],
   "source": [
    "def makes_twenty(n1,n2):\n",
    "    return n1+n2==20 or n1==20 or n2==20"
   ]
  },
  {
   "cell_type": "code",
   "execution_count": 72,
   "id": "d9171677",
   "metadata": {},
   "outputs": [
    {
     "data": {
      "text/plain": [
       "True"
      ]
     },
     "execution_count": 72,
     "metadata": {},
     "output_type": "execute_result"
    }
   ],
   "source": [
    "# Check\n",
    "makes_twenty(20,10)"
   ]
  },
  {
   "cell_type": "code",
   "execution_count": 73,
   "id": "dc80e237",
   "metadata": {},
   "outputs": [
    {
     "data": {
      "text/plain": [
       "False"
      ]
     },
     "execution_count": 73,
     "metadata": {},
     "output_type": "execute_result"
    }
   ],
   "source": [
    "# Check\n",
    "makes_twenty(2,3)"
   ]
  },
  {
   "cell_type": "code",
   "execution_count": 74,
   "id": "fe5f7a04",
   "metadata": {},
   "outputs": [],
   "source": [
    "#4"
   ]
  },
  {
   "cell_type": "code",
   "execution_count": 144,
   "id": "3331c35c",
   "metadata": {},
   "outputs": [],
   "source": [
    "def old_macdonald(name):\n",
    "    if len(name)>3:\n",
    "        name=name.capitalize()\n",
    "        name=name.replace(name[3],name[3].upper())\n",
    "        return name\n",
    "    else:\n",
    "        print('Name is too short!')"
   ]
  },
  {
   "cell_type": "code",
   "execution_count": 145,
   "id": "a553dcbc",
   "metadata": {},
   "outputs": [
    {
     "data": {
      "text/plain": [
       "'MacDonalD'"
      ]
     },
     "execution_count": 145,
     "metadata": {},
     "output_type": "execute_result"
    }
   ],
   "source": [
    "old_macdonald('macdonald')"
   ]
  },
  {
   "cell_type": "code",
   "execution_count": 83,
   "id": "e680752c",
   "metadata": {},
   "outputs": [],
   "source": [
    "#5"
   ]
  },
  {
   "cell_type": "code",
   "execution_count": 90,
   "id": "b0a588f6",
   "metadata": {},
   "outputs": [],
   "source": [
    "def master_yoda(text):\n",
    "    text=text.split(\" \")\n",
    "    text.reverse()\n",
    "    new_txt=\" \".join(text)\n",
    "    return new_txt"
   ]
  },
  {
   "cell_type": "code",
   "execution_count": 91,
   "id": "c2d790da",
   "metadata": {},
   "outputs": [
    {
     "data": {
      "text/plain": [
       "'home am I'"
      ]
     },
     "execution_count": 91,
     "metadata": {},
     "output_type": "execute_result"
    }
   ],
   "source": [
    "master_yoda('I am home')"
   ]
  },
  {
   "cell_type": "code",
   "execution_count": 92,
   "id": "732f8b22",
   "metadata": {},
   "outputs": [
    {
     "data": {
      "text/plain": [
       "'ready are We'"
      ]
     },
     "execution_count": 92,
     "metadata": {},
     "output_type": "execute_result"
    }
   ],
   "source": [
    "master_yoda('We are ready')"
   ]
  },
  {
   "cell_type": "code",
   "execution_count": 94,
   "id": "c3a1c32f",
   "metadata": {},
   "outputs": [],
   "source": [
    "#6"
   ]
  },
  {
   "cell_type": "code",
   "execution_count": 98,
   "id": "c4c4e61b",
   "metadata": {},
   "outputs": [],
   "source": [
    "def almost_there(n):\n",
    "    return abs(n-100)<=10 or abs(n-200) <=10"
   ]
  },
  {
   "cell_type": "code",
   "execution_count": 102,
   "id": "d7808b8d",
   "metadata": {},
   "outputs": [
    {
     "data": {
      "text/plain": [
       "True"
      ]
     },
     "execution_count": 102,
     "metadata": {},
     "output_type": "execute_result"
    }
   ],
   "source": [
    "almost_there(201)"
   ]
  },
  {
   "cell_type": "markdown",
   "id": "09b1433d",
   "metadata": {},
   "source": [
    "# LEVEL 2 PROBLEMS"
   ]
  },
  {
   "cell_type": "code",
   "execution_count": 129,
   "id": "874dea90",
   "metadata": {},
   "outputs": [],
   "source": [
    "#1\n",
    "\n",
    "\n",
    "def has_33(nums):\n",
    "    i=0\n",
    "    flag=False\n",
    "    for num in range(0,len(nums)-1):\n",
    "        if nums[i]==nums[i+1]:\n",
    "            flag=True\n",
    "        else:\n",
    "            i+=1\n",
    "    return flag"
   ]
  },
  {
   "cell_type": "code",
   "execution_count": 130,
   "id": "2b4a6216",
   "metadata": {},
   "outputs": [
    {
     "data": {
      "text/plain": [
       "False"
      ]
     },
     "execution_count": 130,
     "metadata": {},
     "output_type": "execute_result"
    }
   ],
   "source": [
    "has_33([1, 3, 1, 3])"
   ]
  },
  {
   "cell_type": "code",
   "execution_count": 131,
   "id": "99cf4743",
   "metadata": {},
   "outputs": [
    {
     "data": {
      "text/plain": [
       "True"
      ]
     },
     "execution_count": 131,
     "metadata": {},
     "output_type": "execute_result"
    }
   ],
   "source": [
    "has_33([1, 3, 3])"
   ]
  },
  {
   "cell_type": "code",
   "execution_count": 132,
   "id": "df139b16",
   "metadata": {},
   "outputs": [
    {
     "data": {
      "text/plain": [
       "False"
      ]
     },
     "execution_count": 132,
     "metadata": {},
     "output_type": "execute_result"
    }
   ],
   "source": [
    "\n",
    "# Check\n",
    "has_33([3, 1, 3])"
   ]
  },
  {
   "cell_type": "code",
   "execution_count": 146,
   "id": "0cbb7e4e",
   "metadata": {},
   "outputs": [],
   "source": [
    "#2\n",
    "\n",
    "def paper_doll(text):\n",
    "    result=''\n",
    "    for char in text:\n",
    "        result += char * 3\n",
    "    return result"
   ]
  },
  {
   "cell_type": "code",
   "execution_count": 147,
   "id": "f3c6869c",
   "metadata": {},
   "outputs": [
    {
     "data": {
      "text/plain": [
       "'HHHeeellllllooo'"
      ]
     },
     "execution_count": 147,
     "metadata": {},
     "output_type": "execute_result"
    }
   ],
   "source": [
    "\n",
    "paper_doll('Hello')"
   ]
  },
  {
   "cell_type": "code",
   "execution_count": 149,
   "id": "e9df8483",
   "metadata": {},
   "outputs": [],
   "source": [
    "#3\n",
    "\n",
    "def blackjack(a,b,c):\n",
    "    s = a+b+c\n",
    "    if s <= 21:\n",
    "        return s\n",
    "    elif s <= 31 and 11 in (a,b,c):\n",
    "        return s-10\n",
    "    else:\n",
    "        return \"bust\"\n",
    "            \n",
    "        \n"
   ]
  },
  {
   "cell_type": "code",
   "execution_count": 150,
   "id": "5f650d55",
   "metadata": {},
   "outputs": [
    {
     "data": {
      "text/plain": [
       "18"
      ]
     },
     "execution_count": 150,
     "metadata": {},
     "output_type": "execute_result"
    }
   ],
   "source": [
    "blackjack(5,6,7)"
   ]
  },
  {
   "cell_type": "code",
   "execution_count": 151,
   "id": "d9103561",
   "metadata": {},
   "outputs": [
    {
     "data": {
      "text/plain": [
       "'bust'"
      ]
     },
     "execution_count": 151,
     "metadata": {},
     "output_type": "execute_result"
    }
   ],
   "source": [
    "blackjack(9,9,9)"
   ]
  },
  {
   "cell_type": "code",
   "execution_count": 152,
   "id": "20179199",
   "metadata": {},
   "outputs": [
    {
     "data": {
      "text/plain": [
       "19"
      ]
     },
     "execution_count": 152,
     "metadata": {},
     "output_type": "execute_result"
    }
   ],
   "source": [
    "blackjack(9,9,11)"
   ]
  },
  {
   "cell_type": "code",
   "execution_count": 158,
   "id": "9c016ebc",
   "metadata": {},
   "outputs": [],
   "source": [
    "#4\n",
    "\n",
    "def summer_69(arr):\n",
    "    total =0\n",
    "    add = True\n",
    "    for num in arr:\n",
    "        while add:\n",
    "            if num !=6:\n",
    "                total += num\n",
    "                break\n",
    "            else:\n",
    "                add = False\n",
    "        while not add:\n",
    "            if num != 9:\n",
    "                break\n",
    "            else:\n",
    "                add=True\n",
    "                break\n",
    "    return total\n",
    "            "
   ]
  },
  {
   "cell_type": "code",
   "execution_count": 159,
   "id": "347ece55",
   "metadata": {},
   "outputs": [
    {
     "data": {
      "text/plain": [
       "9"
      ]
     },
     "execution_count": 159,
     "metadata": {},
     "output_type": "execute_result"
    }
   ],
   "source": [
    "summer_69([1, 3, 5])"
   ]
  },
  {
   "cell_type": "code",
   "execution_count": 160,
   "id": "a7b4ffa6",
   "metadata": {},
   "outputs": [
    {
     "data": {
      "text/plain": [
       "9"
      ]
     },
     "execution_count": 160,
     "metadata": {},
     "output_type": "execute_result"
    }
   ],
   "source": [
    "# Check\n",
    "summer_69([4, 5, 6, 7, 8, 9])"
   ]
  },
  {
   "cell_type": "markdown",
   "id": "471e53d0",
   "metadata": {},
   "source": [
    "##CHALLENGING PROBLEMS\n"
   ]
  },
  {
   "cell_type": "code",
   "execution_count": 162,
   "id": "6d829a95",
   "metadata": {},
   "outputs": [],
   "source": [
    "#SPY GAME: Write a function that takes in a list of integers \n",
    "#and returns True if it contains 007 in order\n",
    "\n"
   ]
  },
  {
   "cell_type": "code",
   "execution_count": 188,
   "id": "f7b23183",
   "metadata": {},
   "outputs": [],
   "source": [
    "def spy_game(nums):\n",
    "    j=0\n",
    "    flag=False\n",
    "    for i in range(len(nums)):\n",
    "        if nums[j] ==0 and nums[j+1]==0 and nums[j+2]==7:\n",
    "            flag=True\n",
    "        else:\n",
    "            j+=1\n",
    "    return flag\n",
    "            "
   ]
  },
  {
   "cell_type": "code",
   "execution_count": 189,
   "id": "1f9c6bac",
   "metadata": {},
   "outputs": [
    {
     "data": {
      "text/plain": [
       "True"
      ]
     },
     "execution_count": 189,
     "metadata": {},
     "output_type": "execute_result"
    }
   ],
   "source": [
    "# Check\n",
    "spy_game([1,2,4,0,0,7,5])"
   ]
  },
  {
   "cell_type": "code",
   "execution_count": 190,
   "id": "7385b005",
   "metadata": {},
   "outputs": [
    {
     "data": {
      "text/plain": [
       "False"
      ]
     },
     "execution_count": 190,
     "metadata": {},
     "output_type": "execute_result"
    }
   ],
   "source": [
    "\n",
    "spy_game([1,0,2,4,0,5,7])"
   ]
  },
  {
   "cell_type": "code",
   "execution_count": 191,
   "id": "02242cca",
   "metadata": {},
   "outputs": [
    {
     "ename": "IndexError",
     "evalue": "list index out of range",
     "output_type": "error",
     "traceback": [
      "\u001b[1;31m---------------------------------------------------------------------------\u001b[0m",
      "\u001b[1;31mIndexError\u001b[0m                                Traceback (most recent call last)",
      "Cell \u001b[1;32mIn[191], line 1\u001b[0m\n\u001b[1;32m----> 1\u001b[0m \u001b[43mspy_game\u001b[49m\u001b[43m(\u001b[49m\u001b[43m[\u001b[49m\u001b[38;5;241;43m1\u001b[39;49m\u001b[43m,\u001b[49m\u001b[38;5;241;43m7\u001b[39;49m\u001b[43m,\u001b[49m\u001b[38;5;241;43m2\u001b[39;49m\u001b[43m,\u001b[49m\u001b[38;5;241;43m0\u001b[39;49m\u001b[43m,\u001b[49m\u001b[38;5;241;43m0\u001b[39;49m\u001b[43m,\u001b[49m\u001b[38;5;241;43m0\u001b[39;49m\u001b[43m]\u001b[49m\u001b[43m)\u001b[49m\n",
      "Cell \u001b[1;32mIn[188], line 5\u001b[0m, in \u001b[0;36mspy_game\u001b[1;34m(nums)\u001b[0m\n\u001b[0;32m      3\u001b[0m flag\u001b[38;5;241m=\u001b[39m\u001b[38;5;28;01mFalse\u001b[39;00m\n\u001b[0;32m      4\u001b[0m \u001b[38;5;28;01mfor\u001b[39;00m i \u001b[38;5;129;01min\u001b[39;00m \u001b[38;5;28mrange\u001b[39m(\u001b[38;5;28mlen\u001b[39m(nums)):\n\u001b[1;32m----> 5\u001b[0m     \u001b[38;5;28;01mif\u001b[39;00m nums[j] \u001b[38;5;241m==\u001b[39m\u001b[38;5;241m0\u001b[39m \u001b[38;5;129;01mand\u001b[39;00m nums[j\u001b[38;5;241m+\u001b[39m\u001b[38;5;241m1\u001b[39m]\u001b[38;5;241m==\u001b[39m\u001b[38;5;241m0\u001b[39m \u001b[38;5;129;01mand\u001b[39;00m \u001b[43mnums\u001b[49m\u001b[43m[\u001b[49m\u001b[43mj\u001b[49m\u001b[38;5;241;43m+\u001b[39;49m\u001b[38;5;241;43m2\u001b[39;49m\u001b[43m]\u001b[49m\u001b[38;5;241m==\u001b[39m\u001b[38;5;241m7\u001b[39m:\n\u001b[0;32m      6\u001b[0m         flag\u001b[38;5;241m=\u001b[39m\u001b[38;5;28;01mTrue\u001b[39;00m\n\u001b[0;32m      7\u001b[0m     \u001b[38;5;28;01melse\u001b[39;00m:\n",
      "\u001b[1;31mIndexError\u001b[0m: list index out of range"
     ]
    }
   ],
   "source": [
    "spy_game([1,7,2,0,0,0])"
   ]
  },
  {
   "cell_type": "code",
   "execution_count": 192,
   "id": "5a4b06c6",
   "metadata": {},
   "outputs": [],
   "source": [
    "def spy_game(nums):\n",
    "\n",
    "    code = [0,0,7,'x']\n",
    "    \n",
    "    for num in nums:\n",
    "        if num == code[0]:\n",
    "            code.pop(0)   # code.remove(num) also works\n",
    "       \n",
    "    return len(code) == 1"
   ]
  },
  {
   "cell_type": "code",
   "execution_count": 193,
   "id": "ef2c01dc",
   "metadata": {},
   "outputs": [
    {
     "data": {
      "text/plain": [
       "False"
      ]
     },
     "execution_count": 193,
     "metadata": {},
     "output_type": "execute_result"
    }
   ],
   "source": [
    "spy_game([1,7,2,0,0,0])"
   ]
  },
  {
   "cell_type": "code",
   "execution_count": 197,
   "id": "753ed792",
   "metadata": {},
   "outputs": [],
   "source": [
    "#3 COUNT PRIMES:\n",
    "\n",
    "def count_primes(num):\n",
    "    primes=[2]\n",
    "    x=3\n",
    "    if num < 2:\n",
    "        return 0\n",
    "    while x <= num:\n",
    "        for y in range(3,x,2):\n",
    "            if x % y==0:\n",
    "                x += 2\n",
    "                break\n",
    "        else:\n",
    "            primes.append(x)\n",
    "            x +=2\n",
    "    print(primes)\n",
    "    return len(primes)"
   ]
  },
  {
   "cell_type": "code",
   "execution_count": 198,
   "id": "08712c18",
   "metadata": {},
   "outputs": [
    {
     "name": "stdout",
     "output_type": "stream",
     "text": [
      "[2, 3, 5, 7, 11, 13, 17, 19, 23, 29, 31, 37, 41, 43, 47, 53, 59, 61, 67, 71, 73, 79, 83, 89, 97]\n"
     ]
    },
    {
     "data": {
      "text/plain": [
       "25"
      ]
     },
     "execution_count": 198,
     "metadata": {},
     "output_type": "execute_result"
    }
   ],
   "source": [
    "count_primes(100)"
   ]
  },
  {
   "cell_type": "code",
   "execution_count": 199,
   "id": "d820d2d7",
   "metadata": {},
   "outputs": [],
   "source": [
    "def count_primes(num):\n",
    "    primes = [2]\n",
    "    x = 3\n",
    "    if num < 2:\n",
    "        return 0\n",
    "    while x <= num:\n",
    "        for y in primes:  # use the primes list!\n",
    "            if x%y == 0:\n",
    "                x += 2\n",
    "                break\n",
    "        else:\n",
    "            primes.append(x)\n",
    "            x += 2\n",
    "    print(primes)\n",
    "    return len(primes)"
   ]
  },
  {
   "cell_type": "code",
   "execution_count": 200,
   "id": "66177fa2",
   "metadata": {},
   "outputs": [
    {
     "name": "stdout",
     "output_type": "stream",
     "text": [
      "[2, 3, 5, 7, 11, 13, 17, 19, 23, 29, 31, 37, 41, 43, 47, 53, 59, 61, 67, 71, 73, 79, 83, 89, 97]\n"
     ]
    },
    {
     "data": {
      "text/plain": [
       "25"
      ]
     },
     "execution_count": 200,
     "metadata": {},
     "output_type": "execute_result"
    }
   ],
   "source": [
    "count_primes(100)"
   ]
  },
  {
   "cell_type": "code",
   "execution_count": 201,
   "id": "adebaa61",
   "metadata": {},
   "outputs": [],
   "source": [
    "def print_big(letter):\n",
    "    patterns = {1:'  *  ',2:' * * ',3:'*   *',4:'*****',5:'**** ',6:'   * ',7:' *   ',8:'*   * ',9:'*    '}\n",
    "    alphabet = {'A':[1,2,4,3,3],'B':[5,3,5,3,5],'C':[4,9,9,9,4],'D':[5,3,3,3,5],'E':[4,9,4,9,4]}\n",
    "    for pattern in alphabet[letter.upper()]:\n",
    "        print(patterns[pattern])"
   ]
  },
  {
   "cell_type": "code",
   "execution_count": 206,
   "id": "7bf10092",
   "metadata": {},
   "outputs": [
    {
     "name": "stdout",
     "output_type": "stream",
     "text": [
      "*****\n",
      "*    \n",
      "*    \n",
      "*    \n",
      "*****\n"
     ]
    }
   ],
   "source": [
    "print_big('c')"
   ]
  },
  {
   "cell_type": "code",
   "execution_count": null,
   "id": "097c4819",
   "metadata": {},
   "outputs": [],
   "source": []
  }
 ],
 "metadata": {
  "kernelspec": {
   "display_name": "Python 3 (ipykernel)",
   "language": "python",
   "name": "python3"
  },
  "language_info": {
   "codemirror_mode": {
    "name": "ipython",
    "version": 3
   },
   "file_extension": ".py",
   "mimetype": "text/x-python",
   "name": "python",
   "nbconvert_exporter": "python",
   "pygments_lexer": "ipython3",
   "version": "3.10.9"
  }
 },
 "nbformat": 4,
 "nbformat_minor": 5
}
